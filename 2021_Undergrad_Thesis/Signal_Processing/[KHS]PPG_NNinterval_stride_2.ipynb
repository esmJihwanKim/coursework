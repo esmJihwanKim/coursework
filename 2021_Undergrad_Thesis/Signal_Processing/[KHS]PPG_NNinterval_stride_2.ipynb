{
 "cells": [
  {
   "cell_type": "code",
   "execution_count": 1,
   "id": "b6f46f11",
   "metadata": {},
   "outputs": [],
   "source": [
    "import os\n",
    "import pandas as pd\n",
    "import numpy as np\n",
    "import matplotlib.pyplot as plt\n",
    "import heartpy as hp #이 모듈은 깔아야 import 할수 있음\n",
    "os.chdir('/Users/hoseong/Desktop/2021/기타/졸논/종합/NNinterval_strd') #경로 설정"
   ]
  },
  {
   "cell_type": "code",
   "execution_count": 12,
   "id": "e06344fe",
   "metadata": {},
   "outputs": [],
   "source": [
    "colname = ['ppg_grn', 'temp', 'GSR', 'filter1', 'filter2'] #column name 설정\n",
    "data = pd.read_csv('WStds2e2.csv', header = None) #column name이 없이 데이터만 있어서 header=None 설정\n",
    "data.columns = colname #data의 column과 colname을 일치시킨다"
   ]
  },
  {
   "cell_type": "code",
   "execution_count": 13,
   "id": "55818e26",
   "metadata": {},
   "outputs": [
    {
     "name": "stdout",
     "output_type": "stream",
     "text": [
      "97.60860646396499\n",
      "0.6264931969735912\n"
     ]
    },
    {
     "name": "stderr",
     "output_type": "stream",
     "text": [
      "/Users/hoseong/opt/anaconda3/lib/python3.8/site-packages/heartpy/analysis.py:522: UserWarning: Short signal.\n",
      "\n",
      "---------Warning:---------\n",
      "too few peak-peak intervals for (reliable) frequency domain measure computation, frequency output measures are still computed but treat them with caution!\n",
      "\n",
      "HF is usually computed over a minimum of 1 minute of good signal. LF is usually computed over a minimum of 2 minutes of good signal.VLF is usually computed over a minimum of 5 minutes of good signal.The LF/HF ratio is usually computed over minimum 24 hours, although an absolute minimum of 5 min has also been suggested.\n",
      "\n",
      "For more info see: \n",
      "Shaffer, F., Ginsberg, J.P. (2017), An Overview of Heart Rate Variability Metrics and Norms.\n",
      "\n",
      "Task Force of Pacing and Electrophysiology (1996), Heart Rate Variability, in: European Heart Journal, vol.17, issue 3, pp354-381\n",
      "\n",
      "This warning will not repeat\n",
      "  warnings.warn(msg, UserWarning)\n"
     ]
    }
   ],
   "source": [
    "fs = 398 #주파수 설정 (398헤르츠)\n",
    "\n",
    "working_data, measures = hp.process(data['ppg_grn'].values, fs, calc_freq=True)\n",
    "#calc_freq: _optional_ whether to calculate frequency domain measures. \n",
    "#Default = false Note: can cause slowdowns in some cases.\n",
    "#note we need calc_freq if we want frequency-domain measures\n",
    "#output으로 나오는 data가 2개가 있음\n",
    "\n",
    "print(measures['bpm']) #returns BPM value \n",
    "print(measures['lf/hf']) # returns lf/hf 심전도"
   ]
  },
  {
   "cell_type": "code",
   "execution_count": 4,
   "id": "76f8644f",
   "metadata": {},
   "outputs": [
    {
     "name": "stderr",
     "output_type": "stream",
     "text": [
      "/Users/hoseong/opt/anaconda3/lib/python3.8/site-packages/heartpy/visualizeutils.py:119: UserWarning: Matplotlib is currently using module://ipykernel.pylab.backend_inline, which is a non-GUI backend, so cannot show the figure.\n",
      "  fig.show()\n"
     ]
    },
    {
     "data": {
      "image/png": "[encoded data removed]",
      "text/plain": [
       "<Figure size 432x288 with 1 Axes>"
      ]
     },
     "metadata": {
      "needs_background": "light"
     },
     "output_type": "display_data"
    }
   ],
   "source": [
    "hp.plotter(working_data, measures) #hp data plot하기 (NN간격 뽑기)"
   ]
  },
  {
   "cell_type": "code",
   "execution_count": 5,
   "id": "454ecf4d",
   "metadata": {},
   "outputs": [],
   "source": [
    "#결과값 딕셔너리로 반환 함수\n",
    "def NN_dictionary(working_data, time_interval, strd): #기존 코드에서  stride input 추가\n",
    "    jump = int(time_interval/strd)\n",
    "    RR_list = working_data['RR_list'] #working data의 RR_list를 저장\n",
    "    cum = np.cumsum(RR_list) #RR interval 데이터의 누적 벡터\n",
    "    time = list(range(0, int(cum[-1]), strd)) # cum 시작과 끝을 뽑아내고 (=주어진 time 범위)\n",
    "                                                       # time interval 간격 만큼으로 range를 자르고 list 변환\n",
    "                                                       # 말은 즉슨 일정한 시간 간격으로 range를 잘랐다는 것 \n",
    "    \n",
    "    # 만약 [20 30 50 30 20]의 RR interval이 있다면\n",
    "    # 누적 벡터로 [20 50 100 130 150]을 만들어준다음\n",
    "    # time interval대로 자른다\n",
    "    \n",
    "\n",
    "    meanNN = [] #empty vector\n",
    "    medianNN = [] \n",
    "    SDNN = []\n",
    "    pNN50 = []\n",
    "    NN50 = []\n",
    "    RMSSD = []\n",
    "    \n",
    "    for i in range(0, len(time) - jump): #길이 0~time list의 길이-jump 까지 (loop 돌아가는 횟수 = time list와 동일)\n",
    "        idx = (cum >= time[i])&(cum < time[i + jump]) #TF로 원하는 구간의 index 반환\n",
    "        NN = RR_list[idx] #true(1)에 해당하는 부분만 잘려서 나옴\n",
    "        diff = [] #빈 list\n",
    "        for j in range(0, len(NN) -1): #NN의 길이 횟수-1만큼 loop 돌아감\n",
    "            diff.append(abs(NN[j+1]-NN[j])) #연속적 NN간격 차이 쌓기 (abs = 절댓값)\n",
    "            #연속적 NN간격 차이가 50ms를 초과하는 개수를 NN50 count라고 한다\n",
    "\n",
    "        num50 = sum(np.array(diff) > 50)    # [0 0 0 1 1 0] 이면 num50 = 2가 된다\n",
    "                                            # 대소 비교를 위해 array로 변환 후 50보다 큰 것의 개수 num50 저장\n",
    "\n",
    "        if len(diff) > 0:\n",
    "            p50 =  num50/len(diff)\n",
    "        else:\n",
    "            p50 = 0  #diff가 빈 리스트면 p50은 0이고 값이 있다면 len(diff)로 나누어 백분율로 계산\n",
    "        rmssd = np.sqrt(np.mean(sum(NN**2))) #표준편차\n",
    "        #hr = 머 어쩌구 계산\n",
    "\n",
    "        meanNN.append(np.mean(NN)) #평균\n",
    "        medianNN.append(np.median(NN)) #중간값\n",
    "        SDNN.append(np.std(NN)) # 표준편차\n",
    "        NN50.append(num50) #NN50\n",
    "        pNN50.append(p50) #p50\n",
    "        RMSSD.append(rmssd) #rmssd\n",
    "        #HR.append(hr)\n",
    "\n",
    "    result = {'meanNN': meanNN,  #딕셔너리로 만들엇다\n",
    "              'medianNN':medianNN, \n",
    "              'SDNN': SDNN,\n",
    "             'pNN50':pNN50,\n",
    "             'NN50':NN50,\n",
    "             'RMSSD':RMSSD #,'HR':HR \n",
    "             }\n",
    "\n",
    "    return result"
   ]
  },
  {
   "cell_type": "code",
   "execution_count": 2,
   "id": "4758bf17",
   "metadata": {},
   "outputs": [
    {
     "ename": "NameError",
     "evalue": "name 'os' is not defined",
     "output_type": "error",
     "traceback": [
      "\u001b[1;31m---------------------------------------------------------------------------\u001b[0m",
      "\u001b[1;31mNameError\u001b[0m                                 Traceback (most recent call last)",
      "\u001b[1;32m<ipython-input-2-4b3c6cd3e38d>\u001b[0m in \u001b[0;36m<module>\u001b[1;34m\u001b[0m\n\u001b[0;32m      1\u001b[0m \u001b[0mDir\u001b[0m \u001b[1;33m=\u001b[0m \u001b[1;34m'/Users/hoseong/Desktop/2021/기타/졸논/종합/NNinterval_strd'\u001b[0m \u001b[1;31m#경로 설정\u001b[0m\u001b[1;33m\u001b[0m\u001b[1;33m\u001b[0m\u001b[0m\n\u001b[1;32m----> 2\u001b[1;33m \u001b[0mos\u001b[0m\u001b[1;33m.\u001b[0m\u001b[0mchdir\u001b[0m\u001b[1;33m(\u001b[0m\u001b[0mDir\u001b[0m\u001b[1;33m)\u001b[0m\u001b[1;33m\u001b[0m\u001b[1;33m\u001b[0m\u001b[0m\n\u001b[0m\u001b[0;32m      3\u001b[0m \u001b[0mfilelist\u001b[0m \u001b[1;33m=\u001b[0m \u001b[0mos\u001b[0m\u001b[1;33m.\u001b[0m\u001b[0mlistdir\u001b[0m\u001b[1;33m(\u001b[0m\u001b[0mDir\u001b[0m\u001b[1;33m)\u001b[0m \u001b[1;31m#Dir 경로 폴더 안 모든 파일 이름 리스트\u001b[0m\u001b[1;33m\u001b[0m\u001b[1;33m\u001b[0m\u001b[0m\n",
      "\u001b[1;31mNameError\u001b[0m: name 'os' is not defined"
     ]
    }
   ],
   "source": [
    "Dir = '/Users/hoseong/Desktop/2021/기타/졸논/종합/NNinterval_strd' #경로 설정\n",
    "os.chdir(Dir)\n",
    "filelist = os.listdir(Dir) #Dir 경로 폴더 안 모든 파일 이름 리스트"
   ]
  },
  {
   "cell_type": "code",
   "execution_count": 1,
   "id": "30e84622",
   "metadata": {},
   "outputs": [
    {
     "ename": "NameError",
     "evalue": "name 'filelist' is not defined",
     "output_type": "error",
     "traceback": [
      "\u001b[1;31m---------------------------------------------------------------------------\u001b[0m",
      "\u001b[1;31mNameError\u001b[0m                                 Traceback (most recent call last)",
      "\u001b[1;32m<ipython-input-1-1950db33daca>\u001b[0m in \u001b[0;36m<module>\u001b[1;34m\u001b[0m\n\u001b[0;32m      3\u001b[0m \u001b[0mstrd\u001b[0m \u001b[1;33m=\u001b[0m \u001b[1;36m1250\u001b[0m \u001b[1;31m#stride 설정 / 추가함\u001b[0m\u001b[1;33m\u001b[0m\u001b[1;33m\u001b[0m\u001b[0m\n\u001b[0;32m      4\u001b[0m \u001b[1;33m\u001b[0m\u001b[0m\n\u001b[1;32m----> 5\u001b[1;33m \u001b[1;32mfor\u001b[0m \u001b[0mfile\u001b[0m \u001b[1;32min\u001b[0m \u001b[0mfilelist\u001b[0m\u001b[1;33m:\u001b[0m\u001b[1;33m\u001b[0m\u001b[1;33m\u001b[0m\u001b[0m\n\u001b[0m\u001b[0;32m      6\u001b[0m     \u001b[0mdata\u001b[0m \u001b[1;33m=\u001b[0m \u001b[0mpd\u001b[0m\u001b[1;33m.\u001b[0m\u001b[0mread_csv\u001b[0m\u001b[1;33m(\u001b[0m\u001b[0mfile\u001b[0m\u001b[1;33m,\u001b[0m \u001b[0mheader\u001b[0m \u001b[1;33m=\u001b[0m \u001b[1;32mNone\u001b[0m\u001b[1;33m)\u001b[0m\u001b[1;33m\u001b[0m\u001b[1;33m\u001b[0m\u001b[0m\n\u001b[0;32m      7\u001b[0m     \u001b[0mdata\u001b[0m\u001b[1;33m.\u001b[0m\u001b[0mcolumns\u001b[0m \u001b[1;33m=\u001b[0m \u001b[0mcolname\u001b[0m\u001b[1;33m\u001b[0m\u001b[1;33m\u001b[0m\u001b[0m\n",
      "\u001b[1;31mNameError\u001b[0m: name 'filelist' is not defined"
     ]
    }
   ],
   "source": [
    "#폴더 내 모든 파일 csv로 변환\n",
    "time_interval = 5000\n",
    "strd = 1250 #stride 설정 / 추가함\n",
    "\n",
    "for file in filelist:\n",
    "    data = pd.read_csv(file, header = None)\n",
    "    data.columns = colname\n",
    "    fs = 398\n",
    "    working_data, measures = hp.process(data['ppg_grn'].values, fs, calc_freq=True)\n",
    "    result = pd.DataFrame(NN_dictionary(working_data, time_interval, strd))\n",
    "    result.to_csv('NN_strd_'+file, index = False) #to_csv 하면 csv로 반환\n",
    "    "
   ]
  },
  {
   "cell_type": "code",
   "execution_count": null,
   "id": "105ac01b",
   "metadata": {},
   "outputs": [],
   "source": []
  }
 ],
 "metadata": {
  "kernelspec": {
   "display_name": "Python 3",
   "language": "python",
   "name": "python3"
  },
  "language_info": {
   "codemirror_mode": {
    "name": "ipython",
    "version": 3
   },
   "file_extension": ".py",
   "mimetype": "text/x-python",
   "name": "python",
   "nbconvert_exporter": "python",
   "pygments_lexer": "ipython3",
   "version": "3.8.8"
  }
 },
 "nbformat": 4,
 "nbformat_minor": 5
}
