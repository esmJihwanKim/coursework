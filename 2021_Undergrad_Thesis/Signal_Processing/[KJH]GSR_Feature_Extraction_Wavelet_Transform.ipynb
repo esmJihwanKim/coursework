{
 "cells": [
  {
   "cell_type": "code",
   "execution_count": null,
   "id": "33818183",
   "metadata": {},
   "outputs": [],
   "source": [
    "import numpy as np \n",
    "import pandas as pd \n",
    "import matplotlib.pyplot as plt \n",
    "import pywt \n",
    "from scipy import signal\n",
    "from scipy.interpolate import interp1d"
   ]
  },
  {
   "cell_type": "markdown",
   "id": "c29115ac",
   "metadata": {},
   "source": [
    "# 데이터 입력"
   ]
  },
  {
   "cell_type": "code",
   "execution_count": null,
   "id": "8dde9a62",
   "metadata": {},
   "outputs": [],
   "source": [
    "raw_data = pd.read_csv('./Sensor_Data/GSR_30s_Sliced_Sub2/sliced_FS2e1.csv', sep=',', header=None)\n",
    "print(raw_data.shape)\n",
    "print(raw_data.iloc[:,4])  #GSR Raw data 표시 (확인용)\n",
    "plt.plot(raw_data.iloc[:,4])  # GSR RAW data 그래프 표현"
   ]
  },
  {
   "cell_type": "markdown",
   "id": "6cfb55a8",
   "metadata": {},
   "source": [
    "# Wavelet Transform 적용 : A10 / A8 / A6 "
   ]
  },
  {
   "cell_type": "code",
   "execution_count": null,
   "id": "3d5ae633",
   "metadata": {},
   "outputs": [],
   "source": [
    "mother_wavelet = pywt.Wavelet('db3')\n",
    "decomp_level_ten = 10\n",
    "decomp_level_eight = 8\n",
    "decomp_level_six = 6\n",
    "coeffs_ten = pywt.wavedec(raw_data.iloc[:,4], mother_wavelet, level=decomp_level_ten) \n",
    "coeffs_eight = pywt.wavedec(raw_data.iloc[:,4],mother_wavelet, level = decomp_level_eight)\n",
    "coeffs_six = pywt.wavedec(raw_data.iloc[:,4],mother_wavelet, level=decomp_level_six)\n",
    "plt.figure(figsize=(15,20))"
   ]
  },
  {
   "cell_type": "code",
   "execution_count": null,
   "id": "b976d24d",
   "metadata": {},
   "outputs": [],
   "source": [
    "plt.subplot(decomp_level_ten+4, 1, 1)\n",
    "plt.plot(raw_data.iloc[:, 4], color = 'r')\n",
    "plt.ylabel('Raw')\n",
    "plt.grid()\n",
    "\n",
    "plt.subplot(decomp_level_ten+4, 1, 2)\n",
    "plt.plot(coeffs_ten[0])\n",
    "plt.ylabel('a10')\n",
    "plt.grid()\n",
    "\n",
    "plt.subplot(decomp_level_ten+4, 1, 3)\n",
    "plt.plot(coeffs_eight[0])\n",
    "plt.ylabel('a8')\n",
    "plt.grid()\n",
    "\n",
    "plt.subplot(decomp_level_ten+4, 1, 4)\n",
    "plt.plot(coeffs_six[0])\n",
    "plt.ylabel('a6')\n",
    "plt.grid()\n",
    "\n",
    "for k in range(1, decomp_level_ten+1):\n",
    "    plt.subplot(decomp_level_ten+4, 1, k+4)\n",
    "    plt.plot(coeffs_ten[k])\n",
    "    plt.ylabel('d%d'%(decomp_level_ten+1-k))\n",
    "    plt.grid()"
   ]
  },
  {
   "cell_type": "code",
   "execution_count": null,
   "id": "c90fa0be",
   "metadata": {},
   "outputs": [],
   "source": [
    "print(coeffs_ten[0].size)    # A10 \n",
    "print(coeffs_eight[0].size)  # A8\n",
    "print(coeffs_six[0].size)    # A6"
   ]
  },
  {
   "cell_type": "code",
   "execution_count": null,
   "id": "111a2976",
   "metadata": {},
   "outputs": [],
   "source": []
  }
 ],
 "metadata": {
  "kernelspec": {
   "display_name": "Python 3",
   "language": "python",
   "name": "python3"
  },
  "language_info": {
   "codemirror_mode": {
    "name": "ipython",
    "version": 3
   },
   "file_extension": ".py",
   "mimetype": "text/x-python",
   "name": "python",
   "nbconvert_exporter": "python",
   "pygments_lexer": "ipython3",
   "version": "3.8.8"
  }
 },
 "nbformat": 4,
 "nbformat_minor": 5
}
