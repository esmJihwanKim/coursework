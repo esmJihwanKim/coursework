{
 "cells": [
  {
   "cell_type": "code",
   "execution_count": 1,
   "id": "9e1a1575",
   "metadata": {},
   "outputs": [],
   "source": [
    "import numpy as np\n",
    "import tensorflow as tf\n",
    "\n",
    "from tensorflow.python.client import device_lib\n",
    "from tensorflow.keras.datasets import mnist\n",
    "from tensorflow.keras.models import Sequential\n",
    "from tensorflow.keras.layers import Conv2D, MaxPooling2D, Flatten, Dense\n",
    "from tensorflow.keras.optimizers import Adam"
   ]
  },
  {
   "cell_type": "code",
   "execution_count": 2,
   "id": "3c606c05",
   "metadata": {},
   "outputs": [
    {
     "name": "stdout",
     "output_type": "stream",
     "text": [
      "[name: \"/device:CPU:0\"\n",
      "device_type: \"CPU\"\n",
      "memory_limit: 268435456\n",
      "locality {\n",
      "}\n",
      "incarnation: 10595882542913383917\n",
      ", name: \"/device:GPU:0\"\n",
      "device_type: \"GPU\"\n",
      "memory_limit: 5365813238\n",
      "locality {\n",
      "  bus_id: 1\n",
      "  links {\n",
      "  }\n",
      "}\n",
      "incarnation: 4966935548514944597\n",
      "physical_device_desc: \"device: 0, name: NVIDIA GeForce RTX 3060 Ti, pci bus id: 0000:01:00.0, compute capability: 8.6\"\n",
      "]\n"
     ]
    }
   ],
   "source": [
    "print(device_lib.list_local_devices())"
   ]
  },
  {
   "cell_type": "code",
   "execution_count": 3,
   "id": "6120843b",
   "metadata": {},
   "outputs": [
    {
     "name": "stdout",
     "output_type": "stream",
     "text": [
      "num gpus available  1\n",
      "True\n",
      "2.6.0\n",
      "/device:GPU:0\n"
     ]
    }
   ],
   "source": [
    "print(\"num gpus available \", len(tf.config.experimental.list_physical_devices('GPU')))\n",
    "print(tf.test.is_built_with_cuda())\n",
    "print(tf.version.VERSION)\n",
    "print(tf.test.gpu_device_name())"
   ]
  },
  {
   "cell_type": "code",
   "execution_count": 6,
   "id": "9f96ea10",
   "metadata": {},
   "outputs": [
    {
     "name": "stdout",
     "output_type": "stream",
     "text": [
      "CPU를 사용한 학습\n",
      "Epoch 1/5\n",
      "469/469 - 12s - loss: 0.1943 - accuracy: 0.9397 - val_loss: 0.0626 - val_accuracy: 0.9809\n",
      "Epoch 2/5\n",
      "469/469 - 12s - loss: 0.0556 - accuracy: 0.9830 - val_loss: 0.0410 - val_accuracy: 0.9873\n",
      "Epoch 3/5\n",
      "469/469 - 12s - loss: 0.0386 - accuracy: 0.9877 - val_loss: 0.0374 - val_accuracy: 0.9885\n",
      "Epoch 4/5\n",
      "469/469 - 12s - loss: 0.0294 - accuracy: 0.9908 - val_loss: 0.0330 - val_accuracy: 0.9894\n",
      "Epoch 5/5\n",
      "469/469 - 12s - loss: 0.0219 - accuracy: 0.9930 - val_loss: 0.0265 - val_accuracy: 0.9916\n",
      "GPU를 사용한 학습\n",
      "Epoch 1/5\n",
      "469/469 - 12s - loss: 0.0186 - accuracy: 0.9941 - val_loss: 0.0261 - val_accuracy: 0.9920\n",
      "Epoch 2/5\n",
      "469/469 - 2s - loss: 0.0154 - accuracy: 0.9949 - val_loss: 0.0276 - val_accuracy: 0.9917\n",
      "Epoch 3/5\n",
      "469/469 - 2s - loss: 0.0130 - accuracy: 0.9955 - val_loss: 0.0322 - val_accuracy: 0.9922\n",
      "Epoch 4/5\n",
      "469/469 - 2s - loss: 0.0111 - accuracy: 0.9963 - val_loss: 0.0278 - val_accuracy: 0.9904\n",
      "Epoch 5/5\n",
      "469/469 - 2s - loss: 0.0091 - accuracy: 0.9972 - val_loss: 0.0278 - val_accuracy: 0.9915\n"
     ]
    }
   ],
   "source": [
    "\n",
    "# 데이터 불러오기\n",
    "# 넘파이 데이터를 텐서 데이터로 변환\n",
    "(x_train, y_train), (x_test, y_test) = mnist.load_data()\n",
    "x_train = x_train.reshape(60000, 28, 28, 1)\n",
    "x_test = x_test.reshape(10000, 28, 28, 1)\n",
    "x_train = x_train.astype(np.float32)/255.0\n",
    "x_test = x_test.astype(np.float32)/255.0\n",
    "y_train = tf.keras.utils.to_categorical(y_train, 10)\n",
    "y_test = tf.keras.utils.to_categorical(y_test, 10)\n",
    "\n",
    "n_input = 784\n",
    "n_hidden1 = 1024\n",
    "n_hidden2 = 512\n",
    "n_hidden3 = 512\n",
    "n_hidden4 = 512\n",
    "n_output = 10\n",
    "\n",
    "\n",
    "# 레이어 설계\n",
    "cnn = Sequential()\n",
    "cnn.add(Conv2D(6, (5, 5), padding='same', activation='relu', input_shape=(28, 28, 1)))\n",
    "cnn.add(MaxPooling2D(pool_size=(2, 2)))\n",
    "cnn.add(Conv2D(16, (5, 5), padding='same', activation='relu'))\n",
    "cnn.add(MaxPooling2D(pool_size=(2, 2)))\n",
    "cnn.add(Conv2D(120, (5, 5), padding='same', activation='relu'))\n",
    "cnn.add(Flatten())\n",
    "cnn.add(Dense(84, activation='relu'))\n",
    "cnn.add(Dense(10, activation='softmax'))\n",
    "\n",
    "# 모델 컴파일\n",
    "cnn.compile(loss='categorical_crossentropy', optimizer=Adam(), metrics=['accuracy'])\n",
    "\n",
    "print(\"CPU를 사용한 학습\")\n",
    "with tf.device(\"/device:CPU:0\"):\n",
    "    cnn.fit(x_train, y_train, batch_size=128, epochs=5, validation_data=(x_test, y_test), verbose=2)\n",
    "\n",
    "print(\"GPU를 사용한 학습\")\n",
    "with tf.device(\"/device:GPU:0\"):\n",
    "    cnn.fit(x_train, y_train, batch_size=128, epochs=5, validation_data=(x_test, y_test), verbose=2)"
   ]
  },
  {
   "cell_type": "code",
   "execution_count": null,
   "id": "a4461b90",
   "metadata": {},
   "outputs": [],
   "source": []
  }
 ],
 "metadata": {
  "kernelspec": {
   "display_name": "Python 3 (ipykernel)",
   "language": "python",
   "name": "python3"
  },
  "language_info": {
   "codemirror_mode": {
    "name": "ipython",
    "version": 3
   },
   "file_extension": ".py",
   "mimetype": "text/x-python",
   "name": "python",
   "nbconvert_exporter": "python",
   "pygments_lexer": "ipython3",
   "version": "3.9.12"
  }
 },
 "nbformat": 4,
 "nbformat_minor": 5
}
