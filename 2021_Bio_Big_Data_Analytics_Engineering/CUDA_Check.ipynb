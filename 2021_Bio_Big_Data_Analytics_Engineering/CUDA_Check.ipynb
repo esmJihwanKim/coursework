{
 "cells": [
  {
   "cell_type": "code",
   "execution_count": 22,
   "id": "9e1a1575",
   "metadata": {},
   "outputs": [],
   "source": [
    "import tensorflow as tf\n",
    "import numpy as np\n",
    "from tensorflow import keras\n",
    "from tensorflow.keras.datasets import mnist\n",
    "from tensorflow.keras.models import Sequential\n",
    "from tensorflow.keras.layers import Dense \n",
    "from tensorflow.keras.optimizers import Adam"
   ]
  },
  {
   "cell_type": "code",
   "execution_count": 23,
   "id": "3c606c05",
   "metadata": {},
   "outputs": [
    {
     "name": "stdout",
     "output_type": "stream",
     "text": [
      "num gpus available  1\n",
      "True\n",
      "2.5.0\n",
      "/device:GPU:0\n"
     ]
    }
   ],
   "source": [
    "print(\"num gpus available \", len(tf.config.experimental.list_physical_devices('GPU')))\n",
    "print(tf.test.is_built_with_cuda())\n",
    "print(tf.version.VERSION)\n",
    "print(tf.test.gpu_device_name())"
   ]
  },
  {
   "cell_type": "code",
   "execution_count": 25,
   "id": "9f96ea10",
   "metadata": {},
   "outputs": [
    {
     "name": "stdout",
     "output_type": "stream",
     "text": [
      "GPU를 사용한 학습\n",
      "Epoch 1/10\n",
      "469/469 - 1s - loss: 0.0296 - accuracy: 0.8745 - val_loss: 0.0203 - val_accuracy: 0.9168\n",
      "Epoch 2/10\n",
      "469/469 - 1s - loss: 0.0190 - accuracy: 0.9077 - val_loss: 0.0182 - val_accuracy: 0.9062\n",
      "Epoch 3/10\n",
      "469/469 - 1s - loss: 0.0188 - accuracy: 0.8947 - val_loss: 0.0184 - val_accuracy: 0.8928\n",
      "Epoch 4/10\n",
      "469/469 - 1s - loss: 0.0179 - accuracy: 0.8974 - val_loss: 0.0179 - val_accuracy: 0.8973\n",
      "Epoch 5/10\n",
      "469/469 - 1s - loss: 0.0161 - accuracy: 0.9058 - val_loss: 0.0168 - val_accuracy: 0.9053\n",
      "Epoch 6/10\n",
      "469/469 - 1s - loss: 0.0161 - accuracy: 0.9060 - val_loss: 0.0153 - val_accuracy: 0.9078\n",
      "Epoch 7/10\n",
      "469/469 - 1s - loss: 0.0147 - accuracy: 0.9143 - val_loss: 0.0135 - val_accuracy: 0.9236\n",
      "Epoch 8/10\n",
      "469/469 - 1s - loss: 0.0145 - accuracy: 0.9162 - val_loss: 0.0124 - val_accuracy: 0.9304\n",
      "Epoch 9/10\n",
      "469/469 - 1s - loss: 0.0138 - accuracy: 0.9185 - val_loss: 0.0132 - val_accuracy: 0.9257\n",
      "Epoch 10/10\n",
      "469/469 - 1s - loss: 0.0140 - accuracy: 0.9195 - val_loss: 0.0139 - val_accuracy: 0.9191\n"
     ]
    }
   ],
   "source": [
    "\n",
    "# 데이터 불러오기\n",
    "(x_train, y_train), (x_test, y_test) = tf.keras.datasets.mnist.load_data()\n",
    "\n",
    "# 넘파이 데이터를 텐서 데이터로 변환\n",
    "(x_train, y_train), (x_test, y_test) = mnist.load_data()\n",
    "x_train = x_train.reshape(60000, 784)\n",
    "x_test = x_test.reshape(10000, 784)\n",
    "y_train = tf.keras.utils.to_categorical(y_train, 10) # one-hot encoding\n",
    "y_test = tf.keras.utils.to_categorical(y_test, 10)\n",
    "\n",
    "n_input = 784\n",
    "n_hidden1 = 1024\n",
    "n_hidden2 = 512\n",
    "n_hidden3 = 512\n",
    "n_hidden4 = 512\n",
    "n_output = 10\n",
    "\n",
    "\n",
    "# 레이어 설계\n",
    "model = tf.keras.Sequential()\n",
    "model.add(Dense(units=n_hidden1, activation='tanh',\n",
    "              input_shape=(n_input, ), kernel_initializer='zeros'))\n",
    "model.add(Dense(units=n_hidden2, activation='tanh',\n",
    "              kernel_initializer='random_uniform', bias_initializer='zeros'))\n",
    "model.add(Dense(units=n_hidden3, activation='tanh',\n",
    "              kernel_initializer='random_uniform', bias_initializer='zeros'))\n",
    "model.add(Dense(units=n_hidden4, activation='tanh',\n",
    "              kernel_initializer='random_uniform', bias_initializer='zeros'))\n",
    "model.add(Dense(units=n_output, activation='tanh',\n",
    "              kernel_initializer='random_uniform', bias_initializer='zeros'))\n",
    "\n",
    "\n",
    "# 모델 컴파일\n",
    "model.compile(loss='mean_squared_error', optimizer=Adam(learning_rate=0.001),\n",
    "            metrics=['accuracy'])\n",
    "\n",
    "# CPU 학습\n",
    "# print(\"CPU를 사용한 학습\")\n",
    "# with tf.device(\"/device:CPU:0\"):\n",
    "#     model.fit(x_train, y_train, batch_size=128, epochs=10, validation_data=(x_test,y_test), verbose=2)\n",
    "\n",
    "print(\"GPU를 사용한 학습\")\n",
    "with tf.device(\"/device:GPU:0\"):\n",
    "    model.fit(x_train, y_train, batch_size=128, epochs=10, validation_data=(x_test,y_test), verbose=2)"
   ]
  },
  {
   "cell_type": "code",
   "execution_count": null,
   "id": "5ea6d48e",
   "metadata": {},
   "outputs": [],
   "source": []
  }
 ],
 "metadata": {
  "kernelspec": {
   "display_name": "Python 3 (ipykernel)",
   "language": "python",
   "name": "python3"
  },
  "language_info": {
   "codemirror_mode": {
    "name": "ipython",
    "version": 3
   },
   "file_extension": ".py",
   "mimetype": "text/x-python",
   "name": "python",
   "nbconvert_exporter": "python",
   "pygments_lexer": "ipython3",
   "version": "3.9.12"
  }
 },
 "nbformat": 4,
 "nbformat_minor": 5
}
